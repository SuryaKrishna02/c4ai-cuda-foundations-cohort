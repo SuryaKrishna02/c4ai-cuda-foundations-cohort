{
  "nbformat": 4,
  "nbformat_minor": 0,
  "metadata": {
    "colab": {
      "provenance": []
    },
    "kernelspec": {
      "name": "python3",
      "display_name": "Python 3"
    },
    "language_info": {
      "name": "python"
    }
  },
  "cells": [
    {
      "cell_type": "code",
      "execution_count": null,
      "metadata": {
        "id": "WSs2jkUOitMt"
      },
      "outputs": [],
      "source": [
        "!pip install nvcc4jupyter\n",
        "%load_ext nvcc4jupyter"
      ]
    },
    {
      "cell_type": "markdown",
      "source": [
        "**Q1. Write a simple CUDA kernel that gives the sum of maximum element of 2 vectors and profile it for:**\n",
        "\n",
        "- Execution on 1 thread and 1 block\n",
        "- Execution on all threads of 1 block\n",
        "- Execution on all threads of n blocks. Deciding n is upto you."
      ],
      "metadata": {
        "id": "REqGCsKtjKAi"
      }
    },
    {
      "cell_type": "code",
      "source": [],
      "metadata": {
        "id": "2x9RfFb1laSU"
      },
      "execution_count": null,
      "outputs": []
    },
    {
      "cell_type": "markdown",
      "source": [
        "**Q2.[OPTIONAL] Write a simple CUDA kernel that does matrix multiplication of 2 matrices.**"
      ],
      "metadata": {
        "id": "eExCZ2C8lbCs"
      }
    },
    {
      "cell_type": "code",
      "source": [],
      "metadata": {
        "id": "f8UFMF6all5l"
      },
      "execution_count": null,
      "outputs": []
    }
  ]
}