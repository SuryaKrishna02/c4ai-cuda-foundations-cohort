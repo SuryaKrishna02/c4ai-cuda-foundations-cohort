{
  "cells": [
    {
      "cell_type": "markdown",
      "metadata": {
        "id": "3n714FyEdcaX"
      },
      "source": [
        "**Q1. Create a simple Python script that starts two threads; each thread should print numbers from 1 to 5 with a delay of 1 second between each number.**"
      ]
    },
    {
      "cell_type": "code",
      "execution_count": null,
      "metadata": {
        "colab": {
          "base_uri": "https://localhost:8080/"
        },
        "id": "nxLk8gLmcx1_",
        "outputId": "e1215446-b13a-45d9-95ca-a3326009ffd6"
      },
      "outputs": [
        {
          "name": "stdout",
          "output_type": "stream",
          "text": [
            "Thread 1: 1\n",
            "Thread 2: 1\n",
            "Thread 1: 2\n",
            "Thread 2: 2\n",
            "Thread 1: 3\n",
            "Thread 2: 3\n",
            "Thread 1: 4\n",
            "Thread 2: 4\n",
            "Thread 1: 5\n",
            "Thread 2: 5\n"
          ]
        }
      ],
      "source": [
        "from time import sleep\n",
        "from threading import Thread\n",
        "\n",
        "DELAY = 1\n",
        "NO_OF_THREADS = 2\n",
        "\n",
        "def task(thread_no):\n",
        "  for i in range(1, 6):\n",
        "    print(f\"Thread {thread_no}: {i}\")\n",
        "    sleep(DELAY)\n",
        "\n",
        "if __name__ == '__main__':\n",
        "  threads = []\n",
        "  for thread_no in range(NO_OF_THREADS):\n",
        "    thread = Thread(target=task, args=(thread_no+1,))\n",
        "    threads.append(thread)\n",
        "    thread.start()\n",
        "\n",
        "  for thread in threads:\n",
        "    thread.join()"
      ]
    },
    {
      "cell_type": "markdown",
      "metadata": {
        "id": "8IFT0vwhdhKe"
      },
      "source": [
        "**Q2. Write a Python program where two threads print alternating messages like \"Ping\" and \"Pong\" respectively.**"
      ]
    },
    {
      "cell_type": "code",
      "execution_count": null,
      "metadata": {
        "colab": {
          "base_uri": "https://localhost:8080/"
        },
        "id": "ozXZzwCsdhcu",
        "outputId": "b6422c89-7310-4d54-8a65-720dfda5b4fb"
      },
      "outputs": [
        {
          "name": "stdout",
          "output_type": "stream",
          "text": [
            "Ping\n",
            "Pong\n",
            "Ping\n",
            "Pong\n",
            "Ping\n",
            "Pong\n",
            "Ping\n",
            "Pong\n",
            "Ping\n",
            "Pong\n",
            "Ping\n",
            "Pong\n"
          ]
        }
      ],
      "source": [
        "from time import sleep\n",
        "from threading import Thread, Event\n",
        "\n",
        "PING_SLEEP = 1\n",
        "PONG_SLEEP = 2\n",
        "NO_OF_TURNS = 6\n",
        "\n",
        "class PingPongGame:\n",
        "  def __init__(self, no_of_turns):\n",
        "    self.no_of_turns = no_of_turns\n",
        "    self.ping_event = Event()\n",
        "    self.pong_event = Event()\n",
        "    self.ping_event.set()  # Start with Ping\n",
        "\n",
        "  def ping(self):\n",
        "    for _ in range(self.no_of_turns):\n",
        "      self.ping_event.wait()\n",
        "      print(\"Ping\")\n",
        "      sleep(PING_SLEEP)\n",
        "      self.pong_event.set()\n",
        "      self.ping_event.clear()\n",
        "\n",
        "  def pong(self):\n",
        "    for _ in range(self.no_of_turns):\n",
        "      self.pong_event.wait()\n",
        "      print(\"Pong\")\n",
        "      sleep(PONG_SLEEP)\n",
        "      self.ping_event.set()\n",
        "      self.pong_event.clear()\n",
        "\n",
        "if __name__ == \"__main__\":\n",
        "  ping_pong = PingPongGame(NO_OF_TURNS)\n",
        "  ping_thread = Thread(target=ping_pong.ping)\n",
        "  pong_thread = Thread(target=ping_pong.pong)\n",
        "  ping_thread.start()\n",
        "  pong_thread.start()\n",
        "\n",
        "  ping_thread.join()\n",
        "  pong_thread.join()"
      ]
    },
    {
      "cell_type": "markdown",
      "metadata": {
        "id": "8uewwr30fg-R"
      },
      "source": [
        "**Q3. Write a Python program using threads where a semaphore is used to limit access to a shared resource. For example, simulate a scenario where only a certain number of threads can write to a shared file at the same time. But feel free to choose any setting.**\n",
        "\n",
        "P.S. You can just copy-paste from the colab we used in the Session. But make sure you understand it!"
      ]
    },
    {
      "cell_type": "code",
      "execution_count": null,
      "metadata": {
        "colab": {
          "base_uri": "https://localhost:8080/"
        },
        "id": "RYdRBoA5fg1X",
        "outputId": "5faded39-602f-4917-fd29-9b40e2a261fb"
      },
      "outputs": [
        {
          "name": "stdout",
          "output_type": "stream",
          "text": [
            "PERSON 1 is on the bike.\n",
            "No. of Persons using the bike = 1\n",
            "PERSON 2 is on the bike.\n",
            "No. of Persons using the bike = 2\n",
            "PERSON 1 got off the bike.\n",
            "PERSON 3 is on the bike.\n",
            "No. of Persons using the bike = 2\n",
            "PERSON 2 got off the bike.\n",
            "PERSON 4 is on the bike.\n",
            "No. of Persons using the bike = 2\n",
            "PERSON 3 got off the bike.\n",
            "PERSON 5 is on the bike.\n",
            "No. of Persons using the bike = 2\n",
            "PERSON 4 got off the bike.\n",
            "PERSON 6 is on the bike.\n",
            "No. of Persons using the bike = 2\n",
            "PERSON 5 got off the bike.\n",
            "PERSON 7 is on the bike.\n",
            "No. of Persons using the bike = 2\n",
            "PERSON 6 got off the bike.\n",
            "PERSON 8 is on the bike.\n",
            "No. of Persons using the bike = 2\n",
            "PERSON 7 got off the bike.PERSON 8 got off the bike.\n",
            "PERSON 9 is on the bike.\n",
            "No. of Persons using the bike = 2\n",
            "\n",
            "PERSON 10 is on the bike.\n",
            "No. of Persons using the bike = 2\n",
            "PERSON 9 got off the bike.\n",
            "PERSON 10 got off the bike.\n",
            "No. of Persons using the bike = 0\n",
            "All available persons have used the bike.\n"
          ]
        }
      ],
      "source": [
        "# Scenario of allowing only two persons on one bike at a given time such that every person can use the bike.\n",
        "from time import sleep\n",
        "from threading import Thread, Semaphore\n",
        "\n",
        "BIKE_USAGE_TIME = 3\n",
        "AVAILABLE_MEMBERS = 10\n",
        "PERSONS_ALLOWED_ON_BIKE = 2\n",
        "\n",
        "class Bike:\n",
        "  def __init__(self, allowed_persons):\n",
        "    self._semaphore = Semaphore(allowed_persons)\n",
        "    self.bike_users = 0\n",
        "\n",
        "  def on_bike(self, person_id):\n",
        "    with self._semaphore:\n",
        "      print(f\"PERSON {person_id} is on the bike.\")\n",
        "      self.bike_users += 1\n",
        "      print(f\"No. of Persons using the bike = {self.bike_users}\")\n",
        "      sleep(BIKE_USAGE_TIME)\n",
        "      print(f\"PERSON {person_id} got off the bike.\")\n",
        "      self.bike_users -= 1\n",
        "\n",
        "\n",
        "if __name__ == '__main__':\n",
        "  persons = []\n",
        "  bike = Bike(PERSONS_ALLOWED_ON_BIKE)\n",
        "  for person_id in range(AVAILABLE_MEMBERS):\n",
        "    person = Thread(target=bike.on_bike, args=(person_id+1,))\n",
        "    persons.append(person)\n",
        "    person.start()\n",
        "\n",
        "  for person in persons:\n",
        "    person.join()\n",
        "\n",
        "  print(f\"No. of Persons using the bike = {bike.bike_users}\")\n",
        "  print(\"All available persons have used the bike.\")"
      ]
    },
    {
      "cell_type": "markdown",
      "metadata": {
        "id": "OvP_fREcfgqc"
      },
      "source": [
        "**Q4. [OPTIONAL] Write a simple usecase of Mutex in C++. No need to run just dump the code in multiline comment below.**"
      ]
    },
    {
      "cell_type": "code",
      "execution_count": null,
      "metadata": {
        "id": "WeuCggdffgWH"
      },
      "outputs": [],
      "source": [
        "\"\"\"\n",
        "#include <iostream>\n",
        "#include <thread>\n",
        "#include <mutex>\n",
        "\n",
        "std::mutex mtx; // Mutex for protecting the counter\n",
        "int counter = 0; // Shared counter variable\n",
        "\n",
        "void incrementCounter() {\n",
        "    for (int i = 0; i < 1000000; ++i) {\n",
        "        // Acquire the lock\n",
        "        mtx.lock();\n",
        "\n",
        "        // Critical section: Increment the counter\n",
        "        ++counter;\n",
        "\n",
        "        // Release the lock\n",
        "        mtx.unlock();\n",
        "    }\n",
        "}\n",
        "\n",
        "int main() {\n",
        "    std::thread thread1(incrementCounter);\n",
        "    std::thread thread2(incrementCounter);\n",
        "\n",
        "    thread1.join();\n",
        "    thread2.join();\n",
        "\n",
        "    std::cout << \"Final counter value: \" << counter << std::endl;\n",
        "\n",
        "    return 0;\n",
        "}\n",
        "\"\"\""
      ]
    },
    {
      "cell_type": "markdown",
      "metadata": {
        "id": "nI9buA_Vd07A"
      },
      "source": [
        "**Q5. [OPTIONAL] DINING PHILOSOPHER'S PROBLEM**\n",
        "\n",
        "* There are five philosophers sitting around a dining table.\n",
        "* Each philosopher thinks and eats spaghetti.\n",
        "* To eat, a philosopher must have two forks (one on the left and one on the right).\n",
        "* There is a single fork between each pair of adjacent philosophers.\n",
        "* Philosophers must pick up both forks to eat and put them down when they're done."
      ]
    },
    {
      "cell_type": "code",
      "execution_count": null,
      "metadata": {
        "colab": {
          "base_uri": "https://localhost:8080/"
        },
        "id": "4PfEuyEapoH4",
        "outputId": "b6456722-dfc0-4744-aa48-f200ff575f4c"
      },
      "outputs": [
        {
          "name": "stdout",
          "output_type": "stream",
          "text": [
            "Philosopher 1 is thinking\n",
            "Philosopher 2 is thinking\n",
            "Philosopher 3 is thinking\n",
            "Philosopher 4 is thinking\n",
            "Philosopher 5 is thinking\n",
            "Philosopher 1 is eating\n",
            "Philosopher 4 is eating\n",
            "Philosopher 4 is thinking\n",
            "Philosopher 1 is thinking\n",
            "Philosopher 5 is eating\n",
            "Philosopher 2 is eating\n",
            "Philosopher 2 is thinking\n",
            "Philosopher 3 is eating\n",
            "Philosopher 5 is thinking\n",
            "Philosopher 3 is thinking\n",
            "Philosopher 4 is eating\n",
            "Philosopher 1 is eating\n",
            "Philosopher 4 is thinkingPhilosopher 1 is thinkingPhilosopher 2 is eating\n",
            "\n",
            "\n",
            "Philosopher 5 is eating\n",
            "Philosopher 2 is thinking\n",
            "Philosopher 5 is thinking\n",
            "Philosopher 3 is eating\n",
            "Philosopher 3 is thinking\n",
            "Philosopher 1 is eating\n",
            "Philosopher 4 is eating\n",
            "Philosopher 1 has finished eating\n",
            "Philosopher 4 has finished eatingPhilosopher 5 is eating\n",
            "\n",
            "Philosopher 2 is eating\n",
            "Philosopher 5 has finished eating\n",
            "Philosopher 2 has finished eating\n",
            "Philosopher 3 is eating\n",
            "Philosopher 3 has finished eating\n",
            "All philosophers have finished eating\n"
          ]
        }
      ],
      "source": [
        "import time\n",
        "import threading\n",
        "from threading import Lock\n",
        "\n",
        "THINKING_TIME = 5\n",
        "EATING_TIME = 1\n",
        "MAX_SERVINGS = 3\n",
        "NO_OF_PHILOSOPHERS = 5\n",
        "\n",
        "class Philosopher(threading.Thread):\n",
        "    def __init__(self, name, left_fork, right_fork):\n",
        "        threading.Thread.__init__(self)\n",
        "        self.name = name\n",
        "        self.left_fork = left_fork\n",
        "        self.right_fork = right_fork\n",
        "        self.serving_count = 0\n",
        "        self.max_servings = MAX_SERVINGS\n",
        "\n",
        "    def run(self):\n",
        "        while self.serving_count < self.max_servings:\n",
        "            # Think\n",
        "            print(f\"{self.name} is thinking\")\n",
        "            time.sleep(THINKING_TIME)\n",
        "\n",
        "            # Acquire forks (in sorted order to avoid deadlock)\n",
        "            if id(self.left_fork) < id(self.right_fork):\n",
        "                self.left_fork.acquire()\n",
        "                self.right_fork.acquire()\n",
        "            else:\n",
        "                self.right_fork.acquire()\n",
        "                self.left_fork.acquire()\n",
        "\n",
        "            # Eat\n",
        "            print(f\"{self.name} is eating\")\n",
        "            time.sleep(EATING_TIME)\n",
        "            self.serving_count += 1\n",
        "\n",
        "            # Release forks\n",
        "            if id(self.left_fork) < id(self.right_fork):\n",
        "                self.left_fork.release()\n",
        "                self.right_fork.release()\n",
        "            else:\n",
        "                self.right_fork.release()\n",
        "                self.left_fork.release()\n",
        "\n",
        "        print(f\"{self.name} has finished eating\")\n",
        "\n",
        "if __name__ == '__main__':\n",
        "  forks = [Lock() for _ in range(NO_OF_PHILOSOPHERS)]\n",
        "\n",
        "  philosophers = []\n",
        "  for i in range(NO_OF_PHILOSOPHERS):\n",
        "      left_fork = forks[i]\n",
        "      right_fork = forks[(i + 1) % 5]\n",
        "      philosopher = Philosopher(f\"Philosopher {i + 1}\", left_fork, right_fork)\n",
        "      philosophers.append(philosopher)\n",
        "      philosopher.start()\n",
        "\n",
        "  for philosopher in philosophers:\n",
        "      philosopher.join()\n",
        "\n",
        "  print(\"All philosophers have finished eating\")"
      ]
    }
  ],
  "metadata": {
    "colab": {
      "provenance": []
    },
    "kernelspec": {
      "display_name": "Python 3",
      "name": "python3"
    },
    "language_info": {
      "name": "python"
    }
  },
  "nbformat": 4,
  "nbformat_minor": 0
}
